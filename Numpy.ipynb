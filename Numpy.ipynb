{
 "cells": [
  {
   "cell_type": "markdown",
   "metadata": {},
   "source": [
    "# Shivam Agrawal   Roll No.:1805428"
   ]
  },
  {
   "cell_type": "code",
   "execution_count": 30,
   "metadata": {},
   "outputs": [],
   "source": [
    "import numpy as np\n",
    "from numpy import linalg"
   ]
  },
  {
   "cell_type": "code",
   "execution_count": 16,
   "metadata": {},
   "outputs": [],
   "source": [
    "p = [[1, 0], [0, 1]]\n",
    "q = [[1, 2], [3, 4]]"
   ]
  },
  {
   "cell_type": "code",
   "execution_count": 18,
   "metadata": {
    "scrolled": true
   },
   "outputs": [
    {
     "name": "stdout",
     "output_type": "stream",
     "text": [
      "Original Matrix:\n",
      "Matrix1:\n",
      "[[1, 0], [0, 1]]\n",
      "Matrix2:\n",
      "[[1, 2], [3, 4]]\n",
      "Result of the said matrix multiplication:\n",
      "[[1 2]\n",
      " [3 4]]\n"
     ]
    }
   ],
   "source": [
    "print(\"Original Matrix:\")\n",
    "print(\"Matrix1:\")\n",
    "print(p)\n",
    "print(\"Matrix2:\")\n",
    "print(q)\n",
    "result1 = np.dot(p, q)\n",
    "print(\"Result of the said matrix multiplication:\")\n",
    "print(result1)"
   ]
  },
  {
   "cell_type": "code",
   "execution_count": 19,
   "metadata": {},
   "outputs": [
    {
     "name": "stdout",
     "output_type": "stream",
     "text": [
      "Original Matrix:\n",
      "Matrix1:\n",
      "[[1, 0], [0, 1]]\n",
      "Matrix2:\n",
      "[[1, 2], [3, 4]]\n",
      "Outer product of the said two vectors:\n",
      "[[1 2 3 4]\n",
      " [0 0 0 0]\n",
      " [0 0 0 0]\n",
      " [1 2 3 4]]\n"
     ]
    }
   ],
   "source": [
    "print(\"Original Matrix:\")\n",
    "print(\"Matrix1:\")\n",
    "print(p)\n",
    "print(\"Matrix2:\")\n",
    "print(q)\n",
    "result = np.outer(p, q)\n",
    "print(\"Outer product of the said two vectors:\")\n",
    "print(result)"
   ]
  },
  {
   "cell_type": "code",
   "execution_count": 20,
   "metadata": {},
   "outputs": [
    {
     "name": "stdout",
     "output_type": "stream",
     "text": [
      "Original Matrix:\n",
      "Matrix1:\n",
      "[[1, 0], [0, 1]]\n",
      "Matrix2:\n",
      "[[1, 2], [3, 4]]\n",
      "Cross Product of the said two vectors(p, q):\n",
      "[ 2 -3]\n",
      "Cross Product of the said two vectors(q, p):\n",
      "[-2  3]\n"
     ]
    }
   ],
   "source": [
    "print(\"Original Matrix:\")\n",
    "print(\"Matrix1:\")\n",
    "print(p)\n",
    "print(\"Matrix2:\")\n",
    "print(q)\n",
    "result1 = np.cross(p, q)\n",
    "result2 = np.cross(q, p)\n",
    "print(\"Cross Product of the said two vectors(p, q):\")\n",
    "print(result1)\n",
    "print(\"Cross Product of the said two vectors(q, p):\")\n",
    "print(result2)"
   ]
  },
  {
   "cell_type": "code",
   "execution_count": 22,
   "metadata": {},
   "outputs": [
    {
     "name": "stdout",
     "output_type": "stream",
     "text": [
      "Original 2-d Array:\n",
      "[[1 0]\n",
      " [1 2]]\n",
      "Determinant of the Array:\n",
      "2.0\n"
     ]
    }
   ],
   "source": [
    "a = np.array([[1, 0], [1, 2]])\n",
    "print(\"Original 2-d Array:\")\n",
    "print(a)\n",
    "print(\"Determinant of the Array:\")\n",
    "print(np.linalg.det(a))"
   ]
  },
  {
   "cell_type": "code",
   "execution_count": 23,
   "metadata": {},
   "outputs": [
    {
     "name": "stdout",
     "output_type": "stream",
     "text": [
      "Original 1-d Arrays:\n",
      "[1 2 5]\n",
      "[2 1 0]\n",
      "Inner product of the said vectors: 4\n",
      "Higher dimension arrays:\n",
      "Matrix1:\n",
      "[[0 1 2]\n",
      " [3 4 5]\n",
      " [6 7 8]]\n",
      "Matrix2:\n",
      "[[ 3  4  5]\n",
      " [ 6  7  8]\n",
      " [ 9 10 11]]\n",
      "Inner product of the said vectors:\n",
      "[[ 14  23  32]\n",
      " [ 50  86 122]\n",
      " [ 86 149 212]]\n"
     ]
    }
   ],
   "source": [
    "a = np.array([1,2,5])\n",
    "b = np.array([2,1,0])\n",
    "print(\"Original 1-d Arrays:\")\n",
    "print(a)\n",
    "print(b) \n",
    "result = np.inner(a, b)\n",
    "print(\"Inner product of the said vectors:\",result)\n",
    "x = np.arange(9).reshape(3, 3)\n",
    "y = np.arange(3, 12).reshape(3, 3)\n",
    "print(\"Higher dimension arrays:\")\n",
    "print(\"Matrix1:\")\n",
    "print(x)\n",
    "print(\"Matrix2:\")\n",
    "print(y)\n",
    "result = np.inner(x, y)\n",
    "print(\"Inner product of the said vectors:\")\n",
    "print(result)"
   ]
  },
  {
   "cell_type": "code",
   "execution_count": 24,
   "metadata": {},
   "outputs": [
    {
     "name": "stdout",
     "output_type": "stream",
     "text": [
      "Original matrix:\n",
      "[[ 3 -2]\n",
      " [ 1  0]]\n",
      "Eigenvalues of the said matrix [2. 1.]\n",
      "Eigenvectors of the said matrix:\n",
      "[[0.89442719 0.70710678]\n",
      " [0.4472136  0.70710678]]\n"
     ]
    }
   ],
   "source": [
    "m = np.mat(\"3 -2;1 0\")\n",
    "print(\"Original matrix:\")\n",
    "print(m)\n",
    "w, v = np.linalg.eig(m) \n",
    "print( \"Eigenvalues of the said matrix\",w)\n",
    "print( \"Eigenvectors of the said matrix:\")\n",
    "print(v)"
   ]
  },
  {
   "cell_type": "code",
   "execution_count": 25,
   "metadata": {},
   "outputs": [
    {
     "name": "stdout",
     "output_type": "stream",
     "text": [
      "Vector norm:\n",
      "9.539392014169456\n",
      "Matrix norm:\n",
      "5.477225575051661\n"
     ]
    }
   ],
   "source": [
    "v = np.arange(7)\n",
    "result = np.linalg.norm(v)\n",
    "print(\"Vector norm:\")\n",
    "print(result)\n",
    "m = np.matrix('1, 2; 3, 4') \n",
    "result1 = np.linalg.norm(m)\n",
    "print(\"Matrix norm:\")\n",
    "print(result1)"
   ]
  },
  {
   "cell_type": "code",
   "execution_count": 26,
   "metadata": {},
   "outputs": [
    {
     "name": "stdout",
     "output_type": "stream",
     "text": [
      "Original matrix:\n",
      "[[1 2]\n",
      " [3 4]]\n",
      "Inverse of the Matrix:\n",
      "[[-2.   1. ]\n",
      " [ 1.5 -0.5]]\n"
     ]
    }
   ],
   "source": [
    "m = np.array([[1,2],[3,4]])\n",
    "print(\"Original matrix:\")\n",
    "print(m)\n",
    "result =  np.linalg.inv(m)\n",
    "print(\"Inverse of the Matrix:\")\n",
    "print(result)"
   ]
  },
  {
   "cell_type": "code",
   "execution_count": 28,
   "metadata": {},
   "outputs": [
    {
     "name": "stdout",
     "output_type": "stream",
     "text": [
      "Original matrix:\n",
      "[[0 1 2]\n",
      " [3 4 5]\n",
      " [6 7 8]]\n",
      "Sum of Diagonal Elements: 12\n"
     ]
    }
   ],
   "source": [
    "m = np.arange(9).reshape(3,3)\n",
    "print(\"Original matrix:\")\n",
    "print(m)\n",
    "result =  np.trace(m)\n",
    "print(\"Sum of Diagonal Elements:\",result)"
   ]
  },
  {
   "cell_type": "code",
   "execution_count": 29,
   "metadata": {},
   "outputs": [
    {
     "name": "stdout",
     "output_type": "stream",
     "text": [
      "Original array:\n",
      "[[1 2 3]\n",
      " [4 5 6]\n",
      " [7 8 9]]\n",
      "Frobenius Norm: 16.881943016134134\n",
      "Condition Number: inf\n"
     ]
    }
   ],
   "source": [
    "a = np.arange(1, 10).reshape((3, 3))\n",
    "print(\"Original array:\")\n",
    "print(a)\n",
    "print(\"Frobenius Norm:\",np.linalg.norm(a, 'fro'))\n",
    "print(\"Condition Number:\",np.linalg.cond(a, 'fro'))"
   ]
  },
  {
   "cell_type": "code",
   "execution_count": null,
   "metadata": {},
   "outputs": [],
   "source": []
  }
 ],
 "metadata": {
  "kernelspec": {
   "display_name": "Python 3",
   "language": "python",
   "name": "python3"
  },
  "language_info": {
   "codemirror_mode": {
    "name": "ipython",
    "version": 3
   },
   "file_extension": ".py",
   "mimetype": "text/x-python",
   "name": "python",
   "nbconvert_exporter": "python",
   "pygments_lexer": "ipython3",
   "version": "3.7.7"
  }
 },
 "nbformat": 4,
 "nbformat_minor": 4
}
