{
 "cells": [
  {
   "cell_type": "markdown",
   "metadata": {},
   "source": [
    "Write a Python function to find the Max of three numbers"
   ]
  },
  {
   "cell_type": "code",
   "execution_count": 17,
   "metadata": {},
   "outputs": [
    {
     "name": "stdout",
     "output_type": "stream",
     "text": [
      "Enter Three Numbers:5 10 7\n",
      "Max: 10\n"
     ]
    }
   ],
   "source": [
    "a=[int(x) for x in input(\"Enter Three Numbers:\").split()]\n",
    "print(\"Max:\",max(a))"
   ]
  },
  {
   "cell_type": "markdown",
   "metadata": {},
   "source": [
    "Write a Python function to sum all the numbers in a list of 10 numbers"
   ]
  },
  {
   "cell_type": "code",
   "execution_count": 4,
   "metadata": {},
   "outputs": [
    {
     "name": "stdout",
     "output_type": "stream",
     "text": [
      "Enter Ten Numbers:1 2 3 4 5 6 7 8 9 0\n",
      "Sum: 45\n"
     ]
    }
   ],
   "source": [
    "a=[int(x) for x in input(\"Enter Ten Numbers:\").split()]\n",
    "print(\"Sum:\",sum(a))"
   ]
  },
  {
   "cell_type": "markdown",
   "metadata": {},
   "source": [
    "Write a Python function to multiply all the numbers in a list of 10 numbers"
   ]
  },
  {
   "cell_type": "code",
   "execution_count": 6,
   "metadata": {},
   "outputs": [
    {
     "name": "stdout",
     "output_type": "stream",
     "text": [
      "Enter Ten Numbers:1 2 3 4 5 6 7 8 9 10\n",
      "Product: 3628800\n"
     ]
    }
   ],
   "source": [
    "a=[int(x) for x in input(\"Enter Ten Numbers:\").split()]\n",
    "prod=1\n",
    "for i in a:\n",
    "    prod*=i\n",
    "print(\"Product:\",prod)"
   ]
  },
  {
   "cell_type": "markdown",
   "metadata": {},
   "source": [
    "Write a Python program to reverse a string"
   ]
  },
  {
   "cell_type": "code",
   "execution_count": 8,
   "metadata": {},
   "outputs": [
    {
     "name": "stdout",
     "output_type": "stream",
     "text": [
      "Enter a String:Deeksha\n",
      "Reverse String: ahskeeD\n"
     ]
    }
   ],
   "source": [
    "a=input(\"Enter a String:\")\n",
    "print(\"Reverse String:\",a[::-1])"
   ]
  },
  {
   "cell_type": "markdown",
   "metadata": {},
   "source": [
    "Write a Python function to calculate the factorial of a number (a non-negative integer). The function accepts the number as an argument"
   ]
  },
  {
   "cell_type": "code",
   "execution_count": 9,
   "metadata": {},
   "outputs": [
    {
     "name": "stdout",
     "output_type": "stream",
     "text": [
      "Enter a Number:5\n",
      "Factorial: 120\n"
     ]
    }
   ],
   "source": [
    "def fact(n):\n",
    "    prod=1\n",
    "    for i in range(1,n+1):\n",
    "        prod*=i\n",
    "    return prod\n",
    "a=int(input(\"Enter a Number:\"))\n",
    "print(\"Factorial:\",fact(a))"
   ]
  },
  {
   "cell_type": "code",
   "execution_count": null,
   "metadata": {},
   "outputs": [],
   "source": []
  },
  {
   "cell_type": "code",
   "execution_count": 10,
   "metadata": {},
   "outputs": [
    {
     "name": "stdout",
     "output_type": "stream",
     "text": [
      "Enter a Range:5 10\n",
      "Enter the Number to Check:7\n",
      "The Given numbers lies in the range\n"
     ]
    }
   ],
   "source": [
    "a=[int(x) for x in input(\"Enter a Range:\").split()]\n",
    "b=int(input(\"Enter the Number to Check:\"))\n",
    "if a[0]<=b and b<=a[1]:\n",
    "    print(\"The Given numbers lies in the range\")\n",
    "else:\n",
    "    print(\"The Given number ies outside the range\")"
   ]
  },
  {
   "cell_type": "code",
   "execution_count": 11,
   "metadata": {},
   "outputs": [
    {
     "name": "stdout",
     "output_type": "stream",
     "text": [
      "Enter a String:AbC dEf\n",
      "Upper Case Letter: 3\n",
      "Lower Case Letter: 3\n"
     ]
    }
   ],
   "source": [
    "a=input(\"Enter a String:\")\n",
    "u=0\n",
    "l=0\n",
    "for i in a:\n",
    "    if i.isupper():\n",
    "        u+=1\n",
    "    elif i.islower():\n",
    "        l+=1\n",
    "print(\"Upper Case Letter:\",u)\n",
    "print(\"Lower Case Letter:\",l)"
   ]
  },
  {
   "cell_type": "code",
   "execution_count": 12,
   "metadata": {},
   "outputs": [
    {
     "name": "stdout",
     "output_type": "stream",
     "text": [
      "Enter a List of Numbers:1 2 3 4 5 4 1 8 9\n",
      "{1, 2, 3, 4, 5, 8, 9}\n"
     ]
    }
   ],
   "source": [
    "a=[int(x) for x in input(\"Enter a List of Numbers:\").split()]\n",
    "print(str(set(a)))"
   ]
  },
  {
   "cell_type": "code",
   "execution_count": 14,
   "metadata": {},
   "outputs": [
    {
     "name": "stdout",
     "output_type": "stream",
     "text": [
      "Enter a Number:12\n",
      "12 is not a Prime Number\n"
     ]
    }
   ],
   "source": [
    "def prime(a):\n",
    "    for i in range(2,a):\n",
    "        if a%i==0:\n",
    "            return 1\n",
    "    return 0\n",
    "a=int(input(\"Enter a Number:\"))\n",
    "if(prime(a)==1):\n",
    "    print(a,\"is not a Prime Number\")\n",
    "else:\n",
    "    print(a,\"is a Prime Number\")"
   ]
  },
  {
   "cell_type": "code",
   "execution_count": 16,
   "metadata": {},
   "outputs": [
    {
     "name": "stdout",
     "output_type": "stream",
     "text": [
      "Enter a Number:7\n",
      "7 is not a Perfect Number\n"
     ]
    }
   ],
   "source": [
    "def perfect(a):\n",
    "    su=0\n",
    "    for i in range(1,a):\n",
    "        if a%i==0:\n",
    "            su+=i\n",
    "    if su==a:\n",
    "        print(a,\"is a Perfect Number\")\n",
    "    else:\n",
    "        print(a,\"is not a Perfect Number\")\n",
    "a=int(input(\"Enter a Number:\"))\n",
    "perfect(a)\n",
    "            "
   ]
  },
  {
   "cell_type": "code",
   "execution_count": 20,
   "metadata": {},
   "outputs": [
    {
     "name": "stdout",
     "output_type": "stream",
     "text": [
      "Enter lower range: 1\n",
      "Enter upper range: 1000\n",
      "1\n",
      "153\n",
      "370\n",
      "371\n",
      "407\n"
     ]
    }
   ],
   "source": [
    "lower=int(input(\"Enter lower range: \"))  \n",
    "upper=int(input(\"Enter upper range: \"))  \n",
    "for num in range(lower,upper+1):  \n",
    "    sum=0  \n",
    "    temp=num  \n",
    "    while temp>0:  \n",
    "        digit=temp%10  \n",
    "        sum+=digit**3  \n",
    "        temp//=10  \n",
    "    if num==sum:  \n",
    "        print(num)  \n"
   ]
  },
  {
   "cell_type": "code",
   "execution_count": null,
   "metadata": {},
   "outputs": [],
   "source": []
  }
 ],
 "metadata": {
  "kernelspec": {
   "display_name": "Python 3",
   "language": "python",
   "name": "python3"
  },
  "language_info": {
   "codemirror_mode": {
    "name": "ipython",
    "version": 3
   },
   "file_extension": ".py",
   "mimetype": "text/x-python",
   "name": "python",
   "nbconvert_exporter": "python",
   "pygments_lexer": "ipython3",
   "version": "3.7.7"
  }
 },
 "nbformat": 4,
 "nbformat_minor": 4
}
