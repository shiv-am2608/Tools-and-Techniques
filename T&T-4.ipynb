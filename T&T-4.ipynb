{
 "cells": [
  {
   "cell_type": "code",
   "execution_count": 4,
   "metadata": {},
   "outputs": [
    {
     "name": "stdout",
     "output_type": "stream",
     "text": [
      "Enter a String:My name is Shivam his Name is shivam\n",
      "#####Unique Words#####\n",
      "my\n",
      "his\n"
     ]
    }
   ],
   "source": [
    "d={}\n",
    "a=input(\"Enter a String:\")\n",
    "a=a.lower().split()\n",
    "for i in a:\n",
    "    if i in d:\n",
    "        d[i]+=1\n",
    "    else:\n",
    "        d[i]=1\n",
    "print(\"#####Unique Words#####\")\n",
    "for i in d:\n",
    "    if d[i]==1:\n",
    "        print(i)\n",
    "    \n",
    "        "
   ]
  },
  {
   "cell_type": "code",
   "execution_count": 22,
   "metadata": {},
   "outputs": [
    {
     "name": "stdout",
     "output_type": "stream",
     "text": [
      "Enter a String:abbccc\n",
      "Frequency of Characters in Descending Order:\n",
      "{'c': 3, 'b': 2, 'a': 1}\n"
     ]
    }
   ],
   "source": [
    "d={}\n",
    "a=input(\"Enter a String:\")\n",
    "a=a.lower()\n",
    "for i in a:\n",
    "    if i.isalpha():\n",
    "        if i in d:\n",
    "            d[i]+=1\n",
    "        else:\n",
    "            d[i]=1\n",
    "print(\"Frequency of Characters in Descending Order:\")\n",
    "print(dict(sorted(d.items(), key=lambda item: item[1],reverse=True)))"
   ]
  },
  {
   "cell_type": "code",
   "execution_count": 28,
   "metadata": {},
   "outputs": [
    {
     "name": "stdout",
     "output_type": "stream",
     "text": [
      "Enter a String:xyzaeiouxyz\n",
      "xyz#@$%!xyz\n"
     ]
    }
   ],
   "source": [
    "a=input(\"Enter a String:\")\n",
    "a=a.lower()\n",
    "b=''\n",
    "for i in range(len(a)):\n",
    "    if a[i]=='a':\n",
    "        b+='#'\n",
    "    elif a[i]=='e':\n",
    "        b+='@'\n",
    "    elif a[i]=='i':\n",
    "        b+='$'\n",
    "    elif a[i]=='o':\n",
    "        b+='%'\n",
    "    elif a[i]=='u':\n",
    "        b+='!'\n",
    "    else:\n",
    "        b+=a[i]\n",
    "a=b\n",
    "print(a)"
   ]
  },
  {
   "cell_type": "code",
   "execution_count": 47,
   "metadata": {},
   "outputs": [
    {
     "name": "stdout",
     "output_type": "stream",
     "text": [
      "Enter String1:xyz pqr\n",
      "Enter String2:xyz abc\n",
      "####Common Words####\n",
      "xyz\n"
     ]
    }
   ],
   "source": [
    "a=input(\"Enter String1:\")\n",
    "b=input(\"Enter String2:\")\n",
    "d1={}\n",
    "d2={}\n",
    "a=a.lower().split()\n",
    "b=b.lower().split()\n",
    "for i in a:\n",
    "    if i not in d1:\n",
    "        d1[i]=1\n",
    "for i in b:\n",
    "    if i not in d2:\n",
    "        d2[i]=1\n",
    "print(\"####Common Words####\")\n",
    "for i in d1:\n",
    "    if i in d2:\n",
    "        print(i)"
   ]
  },
  {
   "cell_type": "code",
   "execution_count": 42,
   "metadata": {},
   "outputs": [
    {
     "name": "stdout",
     "output_type": "stream",
     "text": [
      "{'stu': 100, 'abc': 99, 'lmnopq': 99, 'def': 97, 'ghi': 95}\n"
     ]
    }
   ],
   "source": [
    "d={\"abc\":99,\"def\":97,\"ghi\":95,\"jkl\":93,\"mno\":89,\"pqr\":91,\"stu\":100,\"vwx\":92,\"yz\":91,\"lmnopq\":99}\n",
    "d=dict(sorted(d.items(), key=lambda item: item[1],reverse=True))\n",
    "print({k: d[k] for k in list(d)[:5]})"
   ]
  },
  {
   "cell_type": "code",
   "execution_count": 53,
   "metadata": {},
   "outputs": [
    {
     "name": "stdout",
     "output_type": "stream",
     "text": [
      "We know the birthdays of:\n",
      "Elon Musk\n",
      "Bill Gates\n",
      "Steve Jobs\n",
      "Press1 to Search for a Birthday\n",
      "Press2 to Add a New Birthday\n",
      "Press3 to Update an Existing Birthday\n",
      "Press4 to Delete a Existing Birthday\n",
      "Enter Your Choice4\n",
      "Enter Name to be Deleted:Elon Musk\n"
     ]
    }
   ],
   "source": [
    "def show_all_in_dict(dict):\n",
    "    print('We know the birthdays of:')\n",
    "    for key in dict:\n",
    "        print(key)\n",
    "def search(query, dict):\n",
    "    return dict[query] if query in dict else None\n",
    "def add(name,bday,dict):\n",
    "    dict[name]=bday\n",
    "    return dict\n",
    "def de(name,dict):\n",
    "    return dict.pop(name)\n",
    "Birthdays ={\"Elon Musk\": \"14/3/1889\",\"Bill Gates\": \"28/10/1955\",\"Steve Jobs\": \"24/2/1955\"}\n",
    "show_all_in_dict(Birthdays)\n",
    "\n",
    "print(\"Press1 to Search for a Birthday\")\n",
    "print(\"Press2 to Add a New Birthday\")\n",
    "print(\"Press3 to Update an Existing Birthday\")\n",
    "print(\"Press4 to Delete a Existing Birthday\")\n",
    "ch=int(input(\"Enter Your Choice:\"))\n",
    "if ch==1:\n",
    "    query = input(\"Who's birthday do you want to look up?\")\n",
    "    result = search(query,Birthdays)\n",
    "    if result == None:\n",
    "        print('No Data')\n",
    "    else:\n",
    "        print(\"{}'s birthday is {}\".format(query, Birthdays[query]))\n",
    "elif ch==2:\n",
    "    name=input(\"Enter New Name:\")\n",
    "    bday=input(\"Enter New Birthday\")\n",
    "    Birthdays=add(name,bday,Birthdays)\n",
    "elif ch==3:\n",
    "    name=input(\"Enter Name for Updating Birthday:\")\n",
    "    bday=input(\"Enter Updated Birthday:\")\n",
    "    Birthdays=add(name,bday,Birthdays)\n",
    "elif ch==4:\n",
    "    name=input(\"Enter Name to be Deleted:\")\n",
    "    Birthdays=de(name,Birthdays)\n",
    "else:\n",
    "    print(\"Invalid Input!!!\")"
   ]
  },
  {
   "cell_type": "code",
   "execution_count": null,
   "metadata": {},
   "outputs": [],
   "source": []
  }
 ],
 "metadata": {
  "kernelspec": {
   "display_name": "Python 3",
   "language": "python",
   "name": "python3"
  },
  "language_info": {
   "codemirror_mode": {
    "name": "ipython",
    "version": 3
   },
   "file_extension": ".py",
   "mimetype": "text/x-python",
   "name": "python",
   "nbconvert_exporter": "python",
   "pygments_lexer": "ipython3",
   "version": "3.7.7"
  }
 },
 "nbformat": 4,
 "nbformat_minor": 4
}
