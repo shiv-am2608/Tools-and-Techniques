{
 "cells": [
  {
   "cell_type": "markdown",
   "metadata": {},
   "source": [
    "# Name- Shivam Agrawal\n",
    "# Roll No-1805428\n",
    "# T&T Lab Assignment(Sorting)"
   ]
  },
  {
   "cell_type": "markdown",
   "metadata": {},
   "source": [
    "## 1) Bubble sort"
   ]
  },
  {
   "cell_type": "code",
   "execution_count": 6,
   "metadata": {},
   "outputs": [
    {
     "name": "stdout",
     "output_type": "stream",
     "text": [
      "Enter a List of Numbers:7 9 1 10 30 3\n",
      "[1, 3, 7, 9, 10, 30]\n"
     ]
    }
   ],
   "source": [
    "a=[int(x) for x in input(\"Enter a List of Numbers:\").split()]\n",
    "n=len(a)\n",
    "for i in range(0,n-1):\n",
    "    for j in range(0,n-1-i):\n",
    "        if a[j]>a[j+1]:\n",
    "            a[j],a[j+1]=a[j+1],a[j]\n",
    "print(a)"
   ]
  },
  {
   "cell_type": "markdown",
   "metadata": {},
   "source": [
    "## 2)Insertion sort"
   ]
  },
  {
   "cell_type": "code",
   "execution_count": 8,
   "metadata": {},
   "outputs": [
    {
     "name": "stdout",
     "output_type": "stream",
     "text": [
      "Enter a List of Numbers:7 9 1 10 30 3\n",
      "[1, 3, 7, 9, 10, 30]\n"
     ]
    }
   ],
   "source": [
    "a=[int(x) for x in input(\"Enter a List of Numbers:\").split()]\n",
    "n=len(a)\n",
    "for i in range(1,n):\n",
    "    j=i-1\n",
    "    x=a[i]\n",
    "    while(j>-1 and a[j]>x):\n",
    "        a[j+1]=a[j]\n",
    "        j-=1\n",
    "    a[j+1]=x\n",
    "print(a)"
   ]
  },
  {
   "cell_type": "markdown",
   "metadata": {},
   "source": [
    "## 3) Merge sort"
   ]
  },
  {
   "cell_type": "code",
   "execution_count": 9,
   "metadata": {},
   "outputs": [
    {
     "name": "stdout",
     "output_type": "stream",
     "text": [
      "Enter a List of Numbers:7 9 1 10 30 3\n",
      "[1, 3, 7, 9, 10, 30]\n"
     ]
    }
   ],
   "source": [
    "def mergesort(a,l,r): \n",
    "    if l<r:  \n",
    "        m=(l+(r-1))//2\n",
    "        mergesort(a,l,m) \n",
    "        mergesort(a,m+1,r) \n",
    "        merge(a,l,m,r)\n",
    "        \n",
    "def merge(a, l, m, r): \n",
    "    n1= m-l+1\n",
    "    n2= r-m \n",
    "    L= [0]*(n1) \n",
    "    R=[0]*(n2)  \n",
    "    for i in range(0,n1): \n",
    "        L[i]= a[l+i] \n",
    "    for j in range(0,n2): \n",
    "        R[j]= a[m+1+j] \n",
    "    i = 0     \n",
    "    j = 0      \n",
    "    k = l     \n",
    "    while i<n1 and j<n2 : \n",
    "        if L[i] <= R[j]: \n",
    "            a[k]=L[i] \n",
    "            i+=1\n",
    "        else: \n",
    "            a[k]=R[j] \n",
    "            j+=1\n",
    "        k+=1 \n",
    "    while i<n1: \n",
    "        a[k]= L[i] \n",
    "        i+=1\n",
    "        k+=1\n",
    "    while j<n2: \n",
    "        a[k]= R[j] \n",
    "        j+=1\n",
    "        k+=1\n",
    "\n",
    "a=[int(x) for x in input(\"Enter a List of Numbers:\").split()]\n",
    "n=len(a)\n",
    "mergesort(a,0,n-1)\n",
    "print(a)"
   ]
  },
  {
   "cell_type": "markdown",
   "metadata": {},
   "source": [
    "## 4) Quick sort"
   ]
  },
  {
   "cell_type": "code",
   "execution_count": 13,
   "metadata": {},
   "outputs": [
    {
     "name": "stdout",
     "output_type": "stream",
     "text": [
      "Enter a List of Numbers:7 9 1 10 30 3\n",
      "\n",
      "Sorted array : [1, 3, 7, 9, 10, 30]\n"
     ]
    }
   ],
   "source": [
    "\n",
    "def partition(arr,left_corner,right_corner):\n",
    "  i = ( left_corner-1 )  \n",
    "  pivot = arr[right_corner]\n",
    "  for j in range(left_corner , right_corner):  \n",
    "    if arr[j] < pivot:  \n",
    "      i = i+1\n",
    "      arr[i],arr[j] = arr[j],arr[i]\n",
    "  arr[i+1],arr[right_corner] = arr[right_corner],arr[i+1]\n",
    "  return ( i+1 )  \n",
    "\n",
    "def quickSort(arr,left_corner,right_corner):\n",
    "  if left_corner < right_corner:  \n",
    "    temp = partition(arr,left_corner,right_corner)\n",
    "    quickSort(arr, left_corner, temp-1)\n",
    "    quickSort(arr, temp+1, right_corner)\n",
    "a=[int(x) for x in input(\"Enter a List of Numbers:\").split()]\n",
    "n = len(a)\n",
    "quickSort(a,0,n-1)\n",
    "print(\"\\nSorted array :\",a)\n"
   ]
  },
  {
   "cell_type": "markdown",
   "metadata": {},
   "source": [
    "## 5) Heap sort"
   ]
  },
  {
   "cell_type": "code",
   "execution_count": 14,
   "metadata": {},
   "outputs": [
    {
     "name": "stdout",
     "output_type": "stream",
     "text": [
      "Enter a List of Numbers:7 9 1 10 30 3\n",
      "\n",
      "Sorted array : [1, 3, 7, 9, 10, 30]\n"
     ]
    }
   ],
   "source": [
    "\n",
    "def heapification(arr, n, i):\n",
    "  big = i\n",
    "  left = 2 * i + 1\n",
    "  right = 2 * i + 2  \n",
    "  if left < n and arr[big] < arr[left]:\n",
    "    big = left\n",
    "  if right < n and arr[big] < arr[right]:\n",
    "    big = right\n",
    "  if big != i:\n",
    "    arr[i], arr[big] = arr[big], arr[i]\n",
    "    heapification(arr, n, big)\n",
    "    \n",
    "def heapSort(arr):\n",
    "  n = len(arr)\n",
    "  for i in range(n//2 - 1, -1, -1):\n",
    "    heapification(arr, n, i)\n",
    "  for i in range(n-1, 0, -1):\n",
    "    arr[i], arr[0] = arr[0], arr[i]\n",
    "    heapification(arr, i, 0)\n",
    "    \n",
    "a=[int(x) for x in input(\"Enter a List of Numbers:\").split()]\n",
    "n = len(a)\n",
    "heapSort(a)\n",
    "print(\"\\nSorted array :\",a)"
   ]
  }
 ],
 "metadata": {
  "kernelspec": {
   "display_name": "Python 3",
   "language": "python",
   "name": "python3"
  },
  "language_info": {
   "codemirror_mode": {
    "name": "ipython",
    "version": 3
   },
   "file_extension": ".py",
   "mimetype": "text/x-python",
   "name": "python",
   "nbconvert_exporter": "python",
   "pygments_lexer": "ipython3",
   "version": "3.7.7"
  }
 },
 "nbformat": 4,
 "nbformat_minor": 2
}
