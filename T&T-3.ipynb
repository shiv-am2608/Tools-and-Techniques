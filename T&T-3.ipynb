{
 "cells": [
  {
   "cell_type": "code",
   "execution_count": 5,
   "metadata": {},
   "outputs": [
    {
     "name": "stdout",
     "output_type": "stream",
     "text": [
      "Second highest number is :  45\n"
     ]
    }
   ],
   "source": [
    "t=(10,20,4,45,99)\n",
    "mx=max(t[0],t[1]) \n",
    "secondmax=min(t[0],t[1]) \n",
    "n =len(t)\n",
    "for i in range(2,n): \n",
    "    if t[i]>mx: \n",
    "        secondmax=mx\n",
    "        mx=t[i] \n",
    "    elif t[i]>secondmax and mx != t[i]: \n",
    "        secondmax=t[i]\n",
    "print(\"Second highest number is : \",secondmax)"
   ]
  },
  {
   "cell_type": "code",
   "execution_count": 2,
   "metadata": {},
   "outputs": [
    {
     "name": "stdout",
     "output_type": "stream",
     "text": [
      "Enter five value: 1 2 3 4 5\n",
      "(1, 1, 1, 1)\n",
      "(2, 4, 8, 16)\n",
      "(3, 9, 27, 81)\n",
      "(4, 16, 64, 256)\n",
      "(5, 25, 125, 625)\n"
     ]
    }
   ],
   "source": [
    "def getPowers(x):\n",
    "    l= (tuple)(x**j for j in range(1,5))\n",
    "    return l\n",
    "x=[int(x) for x in input(\"Enter five value: \").split()] \n",
    "for i in x:\n",
    "    y=getPowers(i)\n",
    "    print(y)"
   ]
  },
  {
   "cell_type": "code",
   "execution_count": 14,
   "metadata": {},
   "outputs": [
    {
     "name": "stdout",
     "output_type": "stream",
     "text": [
      "(0, 1, 1, 2, 3, 5, 8, 13, 21)\n"
     ]
    }
   ],
   "source": [
    "fib=[]\n",
    "a,b=0,1\n",
    "for i in range(9):\n",
    "    fib.append(a)\n",
    "    a,b=b,a+b\n",
    "print(tuple(fib))"
   ]
  },
  {
   "cell_type": "code",
   "execution_count": 19,
   "metadata": {},
   "outputs": [
    {
     "name": "stdout",
     "output_type": "stream",
     "text": [
      "Enter numbers: 9 1 7 0 25 \n",
      "9\n",
      "1\n",
      "7\n",
      "0\n",
      "25\n",
      "14\n",
      "11\n",
      "26\n",
      "8\n",
      "Max: 26\n",
      "Min 0\n"
     ]
    }
   ],
   "source": [
    "t=(14,11,26,8)\n",
    "x=tuple(int(x) for x in input(\"Enter numbers: \").split())\n",
    "x=x+t\n",
    "for i in x:\n",
    "    print(i)\n",
    "print(\"Max:\",max(x))\n",
    "print(\"Min:\",min(x))"
   ]
  },
  {
   "cell_type": "code",
   "execution_count": 33,
   "metadata": {},
   "outputs": [
    {
     "name": "stdout",
     "output_type": "stream",
     "text": [
      "Enter numbers: 8 6 4 2 0\n",
      "Enter numbers: 1 3 5 7 9\n",
      "Tuple X: (8, 6, 4, 2, 0)\n",
      "Tuple Y: (1, 3, 5, 7, 9)\n",
      "1\n"
     ]
    }
   ],
   "source": [
    "def cmp(a, b):\n",
    "    return (a > b) - (a < b)\n",
    "x=tuple(int(x) for x in input(\"Enter numbers: \").split())\n",
    "y=tuple(int(x) for x in input(\"Enter numbers: \").split())\n",
    "print(\"Tuple X:\",x)\n",
    "print(\"Tuple Y:\",y)\n",
    "print(cmp(x,y))\n"
   ]
  },
  {
   "cell_type": "code",
   "execution_count": 24,
   "metadata": {},
   "outputs": [
    {
     "name": "stdout",
     "output_type": "stream",
     "text": [
      "Hello \t 0 \t -5\n",
      "isnt \t 1 \t -4\n",
      "python \t 2 \t -3\n",
      "fun \t 3 \t -2\n",
      "? \t 4 \t -1\n"
     ]
    }
   ],
   "source": [
    "t=('Hello','isnt','python','fun','?')\n",
    "for i in range(0,len(t)):\n",
    "    print(t[i],\"\\t\",i,\"\\t\",i-len(t))"
   ]
  },
  {
   "cell_type": "code",
   "execution_count": 25,
   "metadata": {},
   "outputs": [
    {
     "name": "stdout",
     "output_type": "stream",
     "text": [
      "Two \t GM\n",
      "Three \t Ford\n",
      "Four \t BMW\n",
      "Five \t Volkswagon\n",
      "Six \t Mercedes\n"
     ]
    }
   ],
   "source": [
    "no=['Zero','One','Two','Three','Four','Five','Six','Seven','Eight','Nine','Ten']\n",
    "cars=['Toyota','Honda','GM','Ford','BMW','Volkswagon','Mercedes','Ferrari','Porsche']\n",
    "for i in range(2,7):\n",
    "    print(no[i],\"\\t\",cars[i])"
   ]
  },
  {
   "cell_type": "code",
   "execution_count": 27,
   "metadata": {},
   "outputs": [
    {
     "name": "stdout",
     "output_type": "stream",
     "text": [
      "Before Modification: [9, 8, 7, 6, 5, 4, 3, 2, 1]\n",
      "After Modification: [1, 2, 'a', 'b', 5, 4, 3, 2, 1]\n"
     ]
    }
   ],
   "source": [
    "l=[9,8,7,6,5,4,3,2,1]\n",
    "t=(1,2,'a','b')\n",
    "print(\"Before Modification:\",l)\n",
    "l=[x for x in t]+l[4:]\n",
    "print(\"After Modification:\",l)"
   ]
  },
  {
   "cell_type": "code",
   "execution_count": 29,
   "metadata": {},
   "outputs": [
    {
     "name": "stdout",
     "output_type": "stream",
     "text": [
      "Enter name of subjects: TT DA CC CD SPM\n",
      "('TT', 'DA', 'CC', 'CD', 'SPM')\n"
     ]
    }
   ],
   "source": [
    "y=tuple(x for x in input(\"Enter name of subjects: \").split())\n",
    "print(y)"
   ]
  },
  {
   "cell_type": "code",
   "execution_count": 30,
   "metadata": {},
   "outputs": [
    {
     "name": "stdout",
     "output_type": "stream",
     "text": [
      "Enter numbers: 8 6 1 6 4 2\n",
      "Enter numbers: 1 2 3 4 5 6 7\n",
      "Tuple X: (8, 6, 1, 6, 4, 2)\n",
      "Tuple Y: (1, 2, 3, 4, 5, 6, 7)\n",
      "After Swapping:\n",
      "Tuple X: (1, 2, 3, 4, 5, 6, 7)\n",
      "Tuple Y: (8, 6, 1, 6, 4, 2)\n"
     ]
    }
   ],
   "source": [
    "x=tuple(int(x) for x in input(\"Enter numbers: \").split())\n",
    "y=tuple(int(x) for x in input(\"Enter numbers: \").split())\n",
    "print(\"Tuple X:\",x)\n",
    "print(\"Tuple Y:\",y)\n",
    "x,y=y,x\n",
    "print(\"After Swapping:\")\n",
    "print(\"Tuple X:\",x)\n",
    "print(\"Tuple Y:\",y)"
   ]
  },
  {
   "cell_type": "code",
   "execution_count": null,
   "metadata": {},
   "outputs": [],
   "source": []
  }
 ],
 "metadata": {
  "kernelspec": {
   "display_name": "Python 3",
   "language": "python",
   "name": "python3"
  },
  "language_info": {
   "codemirror_mode": {
    "name": "ipython",
    "version": 3
   },
   "file_extension": ".py",
   "mimetype": "text/x-python",
   "name": "python",
   "nbconvert_exporter": "python",
   "pygments_lexer": "ipython3",
   "version": "3.7.7"
  }
 },
 "nbformat": 4,
 "nbformat_minor": 4
}
