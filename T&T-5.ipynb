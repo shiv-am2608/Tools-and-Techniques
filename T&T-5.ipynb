{
 "cells": [
  {
   "cell_type": "code",
   "execution_count": 1,
   "metadata": {},
   "outputs": [
    {
     "name": "stdout",
     "output_type": "stream",
     "text": [
      "serving\n",
      "country\n"
     ]
    }
   ],
   "source": [
    "def showlarge(s):\n",
    "    l=list(s.split())\n",
    "    for i in l:\n",
    "        if len(i)>4:\n",
    "            print(i)\n",
    "showlarge(\"my life is for serving my country\")"
   ]
  },
  {
   "cell_type": "code",
   "execution_count": 2,
   "metadata": {},
   "outputs": [
    {
     "name": "stdout",
     "output_type": "stream",
     "text": [
      "Sum of Even Numbers: 58\n",
      "Sum of Odd Numbers: 65\n"
     ]
    }
   ],
   "source": [
    "def addoddeven(l):\n",
    "    even=0\n",
    "    odd=0\n",
    "    for i in l:\n",
    "        if i%2==0:\n",
    "            even+=i\n",
    "        else:\n",
    "            odd+=i\n",
    "    print(\"Sum of Even Numbers:\",even)\n",
    "    print(\"Sum of Odd Numbers:\",odd)\n",
    "addoddeven([15,26,37,10,22,13])"
   ]
  },
  {
   "cell_type": "code",
   "execution_count": 18,
   "metadata": {},
   "outputs": [
    {
     "name": "stdout",
     "output_type": "stream",
     "text": [
      "Enter a String:my name is shivam\n",
      "m --> 3\n",
      "y --> 1\n",
      "n --> 1\n",
      "a --> 2\n",
      "e --> 1\n",
      "i --> 2\n",
      "s --> 2\n",
      "h --> 1\n",
      "v --> 1\n"
     ]
    }
   ],
   "source": [
    "s=input(\"Enter a String:\")\n",
    "s=s.lower()\n",
    "d={} \n",
    "for i in s: \n",
    "    if i.isalpha():\n",
    "        if i in d: \n",
    "            d[i]+=1\n",
    "        else: \n",
    "            d[i]=1\n",
    "for key in d:\n",
    "    print(key,\"-->\",d[key])"
   ]
  },
  {
   "cell_type": "code",
   "execution_count": 20,
   "metadata": {},
   "outputs": [
    {
     "name": "stdout",
     "output_type": "stream",
     "text": [
      "Enter Numbers:10 20 30 40 50\n",
      "Enter Element to be Searched:50\n",
      "Element is present at index: 5\n"
     ]
    }
   ],
   "source": [
    "def binarySearch(arr,l,r,x): \n",
    "    if r>=l:  \n",
    "        mid=l+(r-l)//2\n",
    "        if arr[mid]==x: \n",
    "            return mid \n",
    "        elif arr[mid]>x: \n",
    "            return binarySearch(arr,l,mid-1,x) \n",
    "        else: \n",
    "            return binarySearch(arr,mid+1,r,x) \n",
    "    else: \n",
    "        return -1\n",
    "\n",
    "arr=[int(x) for x in input(\"Enter Numbers:\").split()]\n",
    "x=int(input(\"Enter Element to be Searched:\"))\n",
    "result=binarySearch(arr,0,len(arr)-1,x)  \n",
    "if result!=-1: \n",
    "    print(\"Element is present at index:\",result+1) \n",
    "else: \n",
    "    print(\"Element is not present in array\") "
   ]
  },
  {
   "cell_type": "code",
   "execution_count": 21,
   "metadata": {},
   "outputs": [
    {
     "name": "stdout",
     "output_type": "stream",
     "text": [
      "Enter Numbers:1 2 3 4 5\n",
      "[2, 2, 6, 4, 10]\n"
     ]
    }
   ],
   "source": [
    "arr=[int(x) for x in input(\"Enter Numbers:\").split()]\n",
    "for i in range(len(arr)):\n",
    "    if arr[i]%2!=0:\n",
    "        arr[i]*=2\n",
    "print(arr)"
   ]
  },
  {
   "cell_type": "code",
   "execution_count": null,
   "metadata": {},
   "outputs": [],
   "source": []
  }
 ],
 "metadata": {
  "kernelspec": {
   "display_name": "Python 3",
   "language": "python",
   "name": "python3"
  },
  "language_info": {
   "codemirror_mode": {
    "name": "ipython",
    "version": 3
   },
   "file_extension": ".py",
   "mimetype": "text/x-python",
   "name": "python",
   "nbconvert_exporter": "python",
   "pygments_lexer": "ipython3",
   "version": "3.7.7"
  }
 },
 "nbformat": 4,
 "nbformat_minor": 4
}
