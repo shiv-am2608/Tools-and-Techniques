{
 "cells": [
  {
   "cell_type": "markdown",
   "metadata": {},
   "source": [
    "# Name:Shivam Agrawal"
   ]
  },
  {
   "cell_type": "markdown",
   "metadata": {},
   "source": [
    "Find the factorial of a number using function recursion"
   ]
  },
  {
   "cell_type": "code",
   "execution_count": 42,
   "metadata": {},
   "outputs": [
    {
     "name": "stdout",
     "output_type": "stream",
     "text": [
      "Enter a Number:5\n",
      "Factorial of 5 is 120\n"
     ]
    }
   ],
   "source": [
    "def factorial(n):       \n",
    "    if n==0: \n",
    "        return 1      \n",
    "    return n*factorial(n-1) \n",
    "a=int(input(\"Enter a Number:\"))\n",
    "print(\"Factorial of\", a, \"is\",factorial(a)) "
   ]
  },
  {
   "cell_type": "markdown",
   "metadata": {},
   "source": [
    "Calculate the GCD using recursion"
   ]
  },
  {
   "cell_type": "code",
   "execution_count": 43,
   "metadata": {},
   "outputs": [
    {
     "name": "stdout",
     "output_type": "stream",
     "text": [
      "Enter Two Numbers:5 10\n",
      "GCD of 5 and 10 is 5\n"
     ]
    }
   ],
   "source": [
    "def gcd(a,b):\n",
    "    if (a==0):\n",
    "        return b\n",
    "    if (b==0):\n",
    "        return a\n",
    "    if (a== b):   #base case\n",
    "        return a\n",
    "    if (a>b):\n",
    "        return gcd(a-b,b)\n",
    "    return gcd(a,b-a)\n",
    "a=[int(x) for x in input(\"Enter Two Numbers:\").split()]\n",
    "if(gcd(a[0],a[1])):\n",
    "    print('GCD of', a[0], 'and', a[1], 'is', gcd(a[0], a[1]))\n",
    "else:\n",
    "    print('Not Found')"
   ]
  },
  {
   "cell_type": "markdown",
   "metadata": {},
   "source": [
    "Reverse a sentence using recursion"
   ]
  },
  {
   "cell_type": "code",
   "execution_count": 44,
   "metadata": {},
   "outputs": [
    {
     "name": "stdout",
     "output_type": "stream",
     "text": [
      "!!uoY erA woH !!olleH"
     ]
    }
   ],
   "source": [
    "def reverse(string): \n",
    "    if len(string) == 0: \n",
    "        return\n",
    "    temp = string[0] \n",
    "    reverse(string[1:]) \n",
    "    print(temp, end='') \n",
    "string = \"Hello!! How Are You!!\"\n",
    "reverse(string) "
   ]
  },
  {
   "cell_type": "markdown",
   "metadata": {},
   "source": [
    "Convert a number binary to decimal"
   ]
  },
  {
   "cell_type": "code",
   "execution_count": 45,
   "metadata": {},
   "outputs": [
    {
     "name": "stdout",
     "output_type": "stream",
     "text": [
      "Enter a Binary number: 101\n",
      "Decimal of 101 is 5\n"
     ]
    }
   ],
   "source": [
    "def binToDec(x): \n",
    "    if x == 1 or x == 0:\n",
    "        return x\n",
    "    l = len(str(x))\n",
    "    firstDigit = x//pow(10,l-1)\n",
    "    return (pow(2,l-1) * firstDigit)+ binToDec(x%pow(10,l-1)) \n",
    "binary = int(input('Enter a Binary number: '))\n",
    "decimal = binToDec(binary)\n",
    "print(\"Decimal of\",binary,\"is\",decimal)"
   ]
  },
  {
   "cell_type": "markdown",
   "metadata": {},
   "source": [
    "Write a program to store elements in an array and print it"
   ]
  },
  {
   "cell_type": "code",
   "execution_count": 46,
   "metadata": {},
   "outputs": [
    {
     "name": "stdout",
     "output_type": "stream",
     "text": [
      "Enter Numbers:1 2 3 4 5\n",
      "1\n",
      "2\n",
      "3\n",
      "4\n",
      "5\n",
      "[1, 2, 3, 4, 5]\n"
     ]
    }
   ],
   "source": [
    "def prin(l,x):\n",
    "    l.append(x)\n",
    "    print(x)\n",
    "    return l\n",
    "a=[int(x) for x in input(\"Enter Numbers:\").split()]\n",
    "l=[]\n",
    "for i in a:\n",
    "    l=prin(l,i)\n",
    "print(l)"
   ]
  },
  {
   "cell_type": "markdown",
   "metadata": {},
   "source": [
    "Write a program to print all unique elements in an array"
   ]
  },
  {
   "cell_type": "code",
   "execution_count": 47,
   "metadata": {},
   "outputs": [
    {
     "name": "stdout",
     "output_type": "stream",
     "text": [
      "Enter Numbers:10 20 30 30 20 40 50 10\n",
      "[40, 10, 50, 20, 30]\n"
     ]
    }
   ],
   "source": [
    "a=[int(x) for x in input(\"Enter Numbers:\").split()]\n",
    "print(list(set(a)))"
   ]
  },
  {
   "cell_type": "markdown",
   "metadata": {},
   "source": [
    "Write a program to merge two arrays of same size sorted in decending order."
   ]
  },
  {
   "cell_type": "code",
   "execution_count": 48,
   "metadata": {},
   "outputs": [
    {
     "name": "stdout",
     "output_type": "stream",
     "text": [
      "Enter Numbers:10 40 90\n",
      "Enter Numbers:20 30 60\n",
      "[90, 60, 40, 30, 20, 10]\n"
     ]
    }
   ],
   "source": [
    "a=[int(x) for x in input(\"Enter Numbers:\").split()]\n",
    "b=[int(x) for x in input(\"Enter Numbers:\").split()]\n",
    "c=a+b\n",
    "c.sort(reverse=True)\n",
    "print(c)"
   ]
  },
  {
   "cell_type": "markdown",
   "metadata": {},
   "source": [
    "Write a program  to count the frequency of each element of an array"
   ]
  },
  {
   "cell_type": "code",
   "execution_count": 49,
   "metadata": {},
   "outputs": [
    {
     "name": "stdout",
     "output_type": "stream",
     "text": [
      "Enter Array of Elements:1 2 3 4 3 4 5 6 6\n",
      "1 ---> 1\n",
      "2 ---> 1\n",
      "3 ---> 2\n",
      "4 ---> 2\n",
      "5 ---> 1\n",
      "6 ---> 2\n"
     ]
    }
   ],
   "source": [
    "def countFreq(arr, n):      \n",
    "    mp = {} \n",
    "    for i in range(n): \n",
    "        if arr[i] not in mp: \n",
    "            mp[arr[i]] = 0\n",
    "        mp[arr[i]] += 1\n",
    "    for i in range(n): \n",
    "        if (mp[arr[i]] != -1): \n",
    "            print(arr[i],\"--->\",mp[arr[i]]) \n",
    "        mp[arr[i]] = -1\n",
    "arr=[int(x) for x in input(\"Enter Array of Elements:\").split()]\n",
    "countFreq(arr,len(arr)) "
   ]
  },
  {
   "cell_type": "markdown",
   "metadata": {},
   "source": [
    "Print Fibonacci series up to 50."
   ]
  },
  {
   "cell_type": "code",
   "execution_count": 50,
   "metadata": {},
   "outputs": [
    {
     "name": "stdout",
     "output_type": "stream",
     "text": [
      "1\n",
      "1\n",
      "2\n",
      "3\n",
      "5\n",
      "8\n",
      "13\n",
      "21\n",
      "34\n"
     ]
    }
   ],
   "source": [
    "x,y=0,1\n",
    "while y<50:\n",
    "    print(y)\n",
    "    x,y = y,x+y"
   ]
  },
  {
   "cell_type": "markdown",
   "metadata": {},
   "source": [
    "Check whether a given  Integer can be expressed as a Sum of Two Prime Numbers"
   ]
  },
  {
   "cell_type": "code",
   "execution_count": 51,
   "metadata": {},
   "outputs": [
    {
     "name": "stdout",
     "output_type": "stream",
     "text": [
      "Enter a Number:13\n",
      "Yes\n"
     ]
    }
   ],
   "source": [
    "import math  \n",
    "def isPrime(n): \n",
    "    if n<=1: \n",
    "        return False  \n",
    "    if n==2: \n",
    "        return True       \n",
    "    if n%2==0: \n",
    "        return False        \n",
    "    for i in range(3,int(math.sqrt(n))+1,2): \n",
    "        if n%i==0: \n",
    "            return False\n",
    "    return True\n",
    "def isPossible(n):  \n",
    "    if isPrime(n) and isPrime(n-2): \n",
    "        return True\n",
    "    else: \n",
    "        return False\n",
    "n=int(input(\"Enter a Number:\"))\n",
    "if isPossible(n)==True: \n",
    "    print(\"Yes\") \n",
    "else: \n",
    "    print(\"No\") "
   ]
  }
 ],
 "metadata": {
  "kernelspec": {
   "display_name": "Python 3",
   "language": "python",
   "name": "python3"
  },
  "language_info": {
   "codemirror_mode": {
    "name": "ipython",
    "version": 3
   },
   "file_extension": ".py",
   "mimetype": "text/x-python",
   "name": "python",
   "nbconvert_exporter": "python",
   "pygments_lexer": "ipython3",
   "version": "3.7.7"
  }
 },
 "nbformat": 4,
 "nbformat_minor": 4
}
