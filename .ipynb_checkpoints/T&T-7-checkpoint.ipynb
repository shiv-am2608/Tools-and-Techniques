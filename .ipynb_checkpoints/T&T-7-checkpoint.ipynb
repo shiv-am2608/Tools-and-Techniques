{
 "cells": [
  {
   "cell_type": "code",
   "execution_count": 8,
   "metadata": {},
   "outputs": [
    {
     "name": "stdout",
     "output_type": "stream",
     "text": [
      "Shivam\n",
      "School\n",
      "science\n"
     ]
    }
   ],
   "source": [
    "file=open(\"Name.txt\",'r')\n",
    "for line in file:\n",
    "    for i in line.split():\n",
    "        if i[0]=='s' or i[0]=='S':\n",
    "            print(i)    "
   ]
  },
  {
   "cell_type": "code",
   "execution_count": 9,
   "metadata": {},
   "outputs": [
    {
     "name": "stdout",
     "output_type": "stream",
     "text": [
      "Number of The's: 3\n"
     ]
    }
   ],
   "source": [
    "file=open(\"Name.txt\",'r')\n",
    "count=0\n",
    "for line in file:\n",
    "    for i in line.split():\n",
    "        if i=='The' or i=='the':\n",
    "            count=count+1    \n",
    "print(\"Number of The's:\",count)"
   ]
  },
  {
   "cell_type": "code",
   "execution_count": 10,
   "metadata": {},
   "outputs": [
    {
     "name": "stdout",
     "output_type": "stream",
     "text": [
      "\n",
      "The size of Name.txt is : 109 Bytes\n"
     ]
    }
   ],
   "source": [
    "import os\n",
    "file_size = os.path.getsize(\"Name.txt\")\n",
    "print(\"\\nThe size of Name.txt is :\",file_size,\"Bytes\")"
   ]
  },
  {
   "cell_type": "code",
   "execution_count": 12,
   "metadata": {},
   "outputs": [
    {
     "name": "stdout",
     "output_type": "stream",
     "text": [
      "Count of Vowels: 33\n"
     ]
    }
   ],
   "source": [
    "file=open(\"Name.txt\",'r')\n",
    "count=0\n",
    "for line in file:\n",
    "    for i in line:\n",
    "        i=i.lower()\n",
    "        if i=='a' or i=='e' or i=='i' or i=='o' or i=='u':\n",
    "            count+=1\n",
    "print(\"Count of Vowels:\",count)"
   ]
  },
  {
   "cell_type": "code",
   "execution_count": 17,
   "metadata": {},
   "outputs": [],
   "source": [
    "def remove_lowercase(infile, outfile):\n",
    "    output=open(outfile, \"w\")\n",
    "    for line in open (infile):\n",
    "        if not line[0] in \"abcdefghijklmnopqrstuvwxyz\":\n",
    "            print(line)\n",
    "            output.write(line)\n",
    "    output.close ()\n",
    "infile=\"infile.txt\"\n",
    "outfile=\"outfile.txt\"\n",
    "remove_lowercase(infile, outfile)"
   ]
  },
  {
   "cell_type": "code",
   "execution_count": null,
   "metadata": {},
   "outputs": [],
   "source": []
  }
 ],
 "metadata": {
  "kernelspec": {
   "display_name": "Python 3",
   "language": "python",
   "name": "python3"
  },
  "language_info": {
   "codemirror_mode": {
    "name": "ipython",
    "version": 3
   },
   "file_extension": ".py",
   "mimetype": "text/x-python",
   "name": "python",
   "nbconvert_exporter": "python",
   "pygments_lexer": "ipython3",
   "version": "3.7.7"
  }
 },
 "nbformat": 4,
 "nbformat_minor": 4
}
