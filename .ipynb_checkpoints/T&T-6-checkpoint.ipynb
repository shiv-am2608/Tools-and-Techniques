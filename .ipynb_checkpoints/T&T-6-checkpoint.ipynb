{
 "cells": [
  {
   "cell_type": "code",
   "execution_count": 1,
   "metadata": {},
   "outputs": [
    {
     "name": "stdout",
     "output_type": "stream",
     "text": [
      "Enter First Number:10\n",
      "Enter Second Number:20\n",
      "Maximum: 20\n"
     ]
    }
   ],
   "source": [
    "def ma(a,b):\n",
    "    return max(a,b)\n",
    "a=int(input(\"Enter First Number:\"))\n",
    "b=int(input(\"Enter Second Number:\"))\n",
    "print(\"Maximum:\",ma(a,b))"
   ]
  },
  {
   "cell_type": "code",
   "execution_count": 3,
   "metadata": {},
   "outputs": [
    {
     "name": "stdout",
     "output_type": "stream",
     "text": [
      "Enter a Number:15\n",
      "FizzBuzz\n"
     ]
    }
   ],
   "source": [
    "def fizz_buzz(a):\n",
    "    if a%3==0 and a%5==0:\n",
    "        return \"FizzBuzz\"\n",
    "    elif a%3==0:\n",
    "        return \"Fizz\"\n",
    "    elif a%5==0:\n",
    "        return \"Buzz\"\n",
    "    else:\n",
    "        return a\n",
    "a=int(input(\"Enter a Number:\"))\n",
    "print(fizz_buzz(a))"
   ]
  },
  {
   "cell_type": "code",
   "execution_count": 4,
   "metadata": {},
   "outputs": [
    {
     "name": "stdout",
     "output_type": "stream",
     "text": [
      "Enter Your Speed:200\n",
      "Demit!!!!\n",
      "Points: 26\n",
      "Licnese Cancelled!!!\n"
     ]
    }
   ],
   "source": [
    "def fun(speed):\n",
    "    if speed<70:\n",
    "        print(\"OK\")\n",
    "    else:\n",
    "        print(\"Demit!!!!\")\n",
    "        p=(speed-70)//5\n",
    "        print(\"Points:\",p)\n",
    "        if p>12:\n",
    "            print(\"Licnese Cancelled!!!\")\n",
    "a=int(input(\"Enter Your Speed:\"))\n",
    "fun(a)"
   ]
  },
  {
   "cell_type": "code",
   "execution_count": 7,
   "metadata": {},
   "outputs": [
    {
     "name": "stdout",
     "output_type": "stream",
     "text": [
      "Enter a Limit:3\n",
      "0 \tEven\n",
      "1 \tOdd\n",
      "2 \tEven\n",
      "3 \tOdd\n"
     ]
    }
   ],
   "source": [
    "def showNumber(limit):\n",
    "    for i in range(limit+1):\n",
    "        if i%2==0:\n",
    "            print(i,\"\\tEven\")\n",
    "        else:\n",
    "            print(i,\"\\tOdd\")\n",
    "a=int(input(\"Enter a Limit:\"))\n",
    "showNumber(a)"
   ]
  },
  {
   "cell_type": "code",
   "execution_count": 10,
   "metadata": {},
   "outputs": [
    {
     "name": "stdout",
     "output_type": "stream",
     "text": [
      "Enter a Limit:20\n",
      "Sum: 98\n"
     ]
    }
   ],
   "source": [
    "def su(limit):\n",
    "    x=[]\n",
    "    for i in range(limit+1):\n",
    "        if i%3==0 or i%5==0:\n",
    "            x.append(i)\n",
    "    print(\"Sum:\",sum(x))\n",
    "a=int(input(\"Enter a Limit:\"))\n",
    "su(a)"
   ]
  },
  {
   "cell_type": "code",
   "execution_count": null,
   "metadata": {},
   "outputs": [],
   "source": []
  }
 ],
 "metadata": {
  "kernelspec": {
   "display_name": "Python 3",
   "language": "python",
   "name": "python3"
  },
  "language_info": {
   "codemirror_mode": {
    "name": "ipython",
    "version": 3
   },
   "file_extension": ".py",
   "mimetype": "text/x-python",
   "name": "python",
   "nbconvert_exporter": "python",
   "pygments_lexer": "ipython3",
   "version": "3.7.7"
  }
 },
 "nbformat": 4,
 "nbformat_minor": 4
}
